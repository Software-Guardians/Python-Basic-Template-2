{
 "cells": [
  {
   "cell_type": "markdown",
   "id": "0f7554d9",
   "metadata": {},
   "source": [
    "## SORULAR"
   ]
  },
  {
   "cell_type": "markdown",
   "id": "8b3ec4a2",
   "metadata": {},
   "source": [
    "### Soru 1 – Sayı Analizi \n",
    "Kullanıcıdan bir sayı isteyin. \n",
    "- Sayı pozitif, negatif ya da sıfır mı kontrol edin. \n",
    "- Aynı zamanda tek/çift olup olmadığını da belirtin. \n",
    "- Çıktı örneği: \"Pozitif Çift\" veya \"Negatif Tek\" gibi."
   ]
  },
  {
   "cell_type": "code",
   "execution_count": 4,
   "id": "a1938810",
   "metadata": {},
   "outputs": [
    {
     "name": "stdout",
     "output_type": "stream",
     "text": [
      "Negatif Tek\n"
     ]
    }
   ],
   "source": [
    "number1=int(input(\"Lütfen bir tam sayı giriniz:\\n\"))\n",
    "text=\"\"\n",
    "if(number1>0):\n",
    "    text=\"Pozitif\"\n",
    "elif number1==0:\n",
    "    text=\"Sayı sıfır\"\n",
    "else:\n",
    "    text=\"Negatif\"\n",
    "is_single=(number1%2 ==1 or number1%2 ==-1)\n",
    "if is_single:\n",
    "    text+=\" Tek\"\n",
    "else:\n",
    "    text+=\" Çift\"\n",
    "print(text)"
   ]
  },
  {
   "cell_type": "markdown",
   "id": "9aa4824b",
   "metadata": {},
   "source": [
    "### Soru 2 – Harf Frekansı (String) \n",
    "Kullanıcıdan bir kelime alın. \n",
    "- Hangi harften kaç tane geçtiğini bulun. \n",
    "- Sonucu dictionary olarak gösterin. \n",
    "Örnek: \"data\" → {'d': 1, 'a': 2, 't': 1}"
   ]
  },
  {
   "cell_type": "code",
   "execution_count": 5,
   "id": "ab3d0e46",
   "metadata": {},
   "outputs": [
    {
     "name": "stdout",
     "output_type": "stream",
     "text": [
      "Counter({'a': 1, 'l': 1, 'i': 1})\n"
     ]
    }
   ],
   "source": [
    "from collections import Counter\n",
    "text=input(\"Lütfen bir kelime giriniz:\\n\")\n",
    "counter=Counter(text)\n",
    "print(counter)"
   ]
  },
  {
   "cell_type": "markdown",
   "id": "89c63153",
   "metadata": {},
   "source": [
    "### Soru 3 – Şifre Kontrolü (String Metotları) \n",
    "Kullanıcıdan şifre girmesini isteyin. Şifre: \n",
    "- En az 8 karakter olmalı \n",
    "- En az 1 büyük harf içermeli \n",
    "- En az 1 rakam içermeli \n",
    "Koşulları sağlayıp sağlamadığına göre kullanıcıyı bilgilendirin."
   ]
  },
  {
   "cell_type": "code",
   "execution_count": null,
   "id": "ee1fa675",
   "metadata": {},
   "outputs": [],
   "source": [
    "password=input(\"Bir şifre giriniz:\\nKoşullar:\\n1-En az 8 karakter olmalı\\n2-En az 1 büyük harf içermeli\\n3-En az 1 rakam içermeli\\n\")\n",
    "if len(password)<8:\n",
    "    print(\"En az 8 karakter olmalı!\\n\")\n",
    "uppercase=sum(1 for letter in password if letter.isupper())\n",
    "if uppercase==0:\n",
    "    print(\"İçerisinde en az 1 büyük harf olmalı!\\n\")\n",
    "number=sum(1 for i in password if i.isdecimal())\n",
    "if number==0:\n",
    "    print(\"En az 1 rakam olmalı!\")"
   ]
  },
  {
   "cell_type": "markdown",
   "id": "9fcf49e9",
   "metadata": {},
   "source": [
    "### Soru 4 – Liste İşlemleri \n",
    "[12, 4, 9, 25, 30, 7, 18] listesini kullanın. \n",
    "- Listenin ortalamasını bulun. \n",
    "- Ortalamadan büyük sayıları ayrı bir listeye atın. \n",
    "- Sonucu ekrana yazdırın. "
   ]
  },
  {
   "cell_type": "code",
   "execution_count": 22,
   "id": "14158bc6",
   "metadata": {},
   "outputs": [
    {
     "name": "stdout",
     "output_type": "stream",
     "text": [
      "average: 15.0\n",
      "data: [12, 4, 9, 7]\n",
      "listNew: [25, 30, 18]\n"
     ]
    }
   ],
   "source": [
    "data=[12,4,9,25,30,7,18]\n",
    "total=0\n",
    "for i in data:\n",
    "    total+=i\n",
    "listAverage=total/(len(data))\n",
    "print(f\"average: {listAverage}\")\n",
    "listNew=[]\n",
    "for i in data[:]:\n",
    "    if i>listAverage:\n",
    "        listNew.append(i)\n",
    "        data.remove(i)\n",
    "print(f\"data: {data}\\nlistNew: {listNew}\")"
   ]
  },
  {
   "cell_type": "markdown",
   "id": "3ee4e9c1",
   "metadata": {},
   "source": [
    "### Soru 5 – Nested Loop (Desen) \n",
    "Aşağıdaki çıktıyı üreten programı yazın (üçgen desen): \n",
    "```\n",
    "* \n",
    "** \n",
    "*** \n",
    "**** \n",
    "***** \n",
    "```"
   ]
  },
  {
   "cell_type": "code",
   "execution_count": 23,
   "id": "a230a9b7",
   "metadata": {},
   "outputs": [
    {
     "name": "stdout",
     "output_type": "stream",
     "text": [
      "*\n",
      "**\n",
      "***\n",
      "****\n",
      "*****\n"
     ]
    }
   ],
   "source": [
    "for i in range(1,6):\n",
    "    print(\"*\"*i)"
   ]
  },
  {
   "cell_type": "markdown",
   "id": "f6ba1434",
   "metadata": {},
   "source": [
    "### Soru 6 – While Döngüsü \n",
    "Kullanıcıdan sürekli sayı isteyin. \n",
    "- Kullanıcı 0 girdiğinde program dursun. \n",
    "- Girilen tüm sayıların toplamını ve ortalamasını yazdırın."
   ]
  },
  {
   "cell_type": "code",
   "execution_count": 24,
   "id": "9a36c46c",
   "metadata": {},
   "outputs": [
    {
     "name": "stdout",
     "output_type": "stream",
     "text": [
      "Toplam: 135\n",
      "Ortalama: 45.0\n"
     ]
    }
   ],
   "source": [
    "total=0\n",
    "amount=0\n",
    "while(True):\n",
    "    number=int(input(\"Sayı giriniz:\\n\"))\n",
    "    if number==0:\n",
    "        break\n",
    "    amount+=1\n",
    "    total+=number\n",
    "\n",
    "print(f\"Toplam: {total}\\nOrtalama: {total/amount}\")"
   ]
  },
  {
   "cell_type": "markdown",
   "id": "ea4d61cb",
   "metadata": {},
   "source": [
    "### Soru 7 – Palindrom Kontrolü \n",
    "Kullanıcıdan bir kelime isteyin. \n",
    "- Kelimenin palindrom olup olmadığını kontrol edin. \n",
    "- Örnek: \"kayak\" → Palindrom  , \"python\" → Değil     "
   ]
  },
  {
   "cell_type": "code",
   "execution_count": 34,
   "id": "a32b22d5",
   "metadata": {},
   "outputs": [
    {
     "name": "stdout",
     "output_type": "stream",
     "text": [
      "Kelime: Kayak\n",
      "True\n"
     ]
    }
   ],
   "source": [
    "word=input(\"Lütfen bir kelime giriniz:\\n\")\n",
    "print(f\"Kelime: {word}\")\n",
    "word=word.lower()\n",
    "is_palindrom=True\n",
    "for i in range(0,int(len(word)/2)):\n",
    "    if word[i]!=word[len(word)-1-i]:\n",
    "        is_palindrom=False\n",
    "\n",
    "print(is_palindrom)"
   ]
  },
  {
   "cell_type": "markdown",
   "id": "2f00c11a",
   "metadata": {},
   "source": [
    "### Soru 8 – List Comprehension \n",
    "1’den 100’e kadar olan sayılardan: \n",
    "- Hem 3’e hem 5’e bölünebilenlerin karelerini içeren bir liste oluşturun. \n",
    "- Sonucu ekrana yazdırın."
   ]
  },
  {
   "cell_type": "code",
   "execution_count": 2,
   "id": "e49d27fd",
   "metadata": {},
   "outputs": [
    {
     "name": "stdout",
     "output_type": "stream",
     "text": [
      "[15, 30, 45, 60, 75, 90]\n"
     ]
    }
   ],
   "source": [
    "myList=[]\n",
    "for i in range(1,101):\n",
    "    if (i%3==0) and (i%5==0):\n",
    "        myList.append(i)\n",
    "print(myList)"
   ]
  },
  {
   "cell_type": "markdown",
   "id": "bc356b87",
   "metadata": {},
   "source": [
    "### Soru 9 – String İşlemleri \n",
    "Bir cümle alın. \n",
    "- Cümledeki kelimeleri split() ile ayırın. \n",
    "- Her kelimenin ilk harfini büyük yaparak yeni bir string oluşturun. \n",
    "- Örnek: \"python veri bilimi\" → \"Python Veri Bilimi\""
   ]
  },
  {
   "cell_type": "code",
   "execution_count": 9,
   "id": "f7be986b",
   "metadata": {},
   "outputs": [
    {
     "name": "stdout",
     "output_type": "stream",
     "text": [
      "Merhaba Dünya \n"
     ]
    }
   ],
   "source": [
    "sentence=input(\"Bir cümle yazınız:\\n\")\n",
    "sentenceSplistList=sentence.split()\n",
    "sentence=\"\"\n",
    "for word in sentenceSplistList:\n",
    "    word=word.capitalize()\n",
    "    sentence+=word+\" \"\n",
    "print(sentence)"
   ]
  },
  {
   "cell_type": "markdown",
   "id": "5cadab78",
   "metadata": {},
   "source": [
    "### Mini Proje – Film Yorumu Analizi \n",
    "### Proje Tanımı: \n",
    "### Kullanıcıdan birkaç film yorumu alın (örneğin 5–6 yorum). \n",
    "- Yorumları bir listeye atın. \n",
    "- Her yorumun uzunluğunu (karakter sayısı) bulun. \n",
    "- Kaç yorumda \"iyi\" kelimesi geçtiğini sayın. \n",
    "- En uzun yorumu ve en kısa yorumu ekrana yazdırın. \n",
    "- Tüm yorumların ortalama uzunluğunu hesaplayın. \n",
    ":Beklenen Çıktı Örneği \n",
    "### Girdi (yorumlar): \n",
    " \n",
    "[\"Film çok güzeldi\", \"Kötüydü\", \"Ortalama bir filmdi\", \"Gerçekten çok iyi!\", \"İyi ama daha iyi \n",
    "olabilirdi\"] \n",
    " \n",
    "### Çıktı: \n",
    "Toplam yorum sayısı: 5 \n",
    "\"iyi\" geçen yorum sayısı: 2 \n",
    "En uzun yorum: İyi ama daha iyi olabilirdi \n",
    "En kısa yorum: Kötüydü \n",
    "Ortalama uzunluk: 17.4 karakter"
   ]
  },
  {
   "cell_type": "code",
   "execution_count": 12,
   "id": "4d4d58ef",
   "metadata": {},
   "outputs": [
    {
     "name": "stdout",
     "output_type": "stream",
     "text": [
      "En uzun yorum :  baya iyi\n",
      "\n",
      "En kısa yorum : iyi\n",
      "\n",
      "İyi yorum sayısı : 2\n",
      "\n",
      "Toplam yorum sayısı : 7\n",
      "\n",
      "Her yorumun uzunluğu : [3, 9, 5, 5, 5, 6, 6]\n",
      "\n",
      "Toplam harf : 39\n",
      "\n",
      "Ortalama yorum uzunluğu : 5.571428571428571\n",
      "\n"
     ]
    }
   ],
   "source": [
    "commentList=[]\n",
    "\n",
    "while(True):\n",
    "    comment=input(\"Bir yorum giriniz(Çıkmak için sıfıra basabilirsiniz.):\\n\")\n",
    "    if comment==\"0\":\n",
    "        break\n",
    "    commentList.append(comment)\n",
    "    \n",
    "\n",
    "longestComment=\"\"\n",
    "smallestComment=commentList[0]\n",
    "for comment in commentList:\n",
    "    if len(comment)>len(longestComment):\n",
    "        longestComment=comment\n",
    "    if len(comment)<len(smallestComment):\n",
    "        smallestComment=comment\n",
    "totalPositiveComment=0\n",
    "for comment in commentList:\n",
    "    if \"iyi\" in comment:\n",
    "        totalPositiveComment+=1\n",
    "totalComment=len(commentList)\n",
    "commentLengthList=[]\n",
    "for i in range(0,len(commentList)):\n",
    "    commentLengthList.append(len(commentList[i]))\n",
    "totalLetter=0\n",
    "for i in commentLengthList:\n",
    "    totalLetter+=i\n",
    "\n",
    "averageCommentSize=totalLetter/totalComment\n",
    "print(f\"En uzun yorum : {longestComment}\\n\")\n",
    "print(f\"En kısa yorum : {smallestComment}\\n\")\n",
    "print(f\"İyi yorum sayısı : {totalPositiveComment}\\n\")\n",
    "print(f\"Toplam yorum sayısı : {totalComment}\\n\")\n",
    "print(f\"Her yorumun uzunluğu : {commentLengthList}\\n\")\n",
    "print(f\"Toplam harf : {totalLetter}\\n\")\n",
    "print(f\"Ortalama yorum uzunluğu : {averageCommentSize}\\n\")"
   ]
  }
 ],
 "metadata": {
  "kernelspec": {
   "display_name": ".venv (3.13.5)",
   "language": "python",
   "name": "python3"
  },
  "language_info": {
   "codemirror_mode": {
    "name": "ipython",
    "version": 3
   },
   "file_extension": ".py",
   "mimetype": "text/x-python",
   "name": "python",
   "nbconvert_exporter": "python",
   "pygments_lexer": "ipython3",
   "version": "3.13.5"
  }
 },
 "nbformat": 4,
 "nbformat_minor": 5
}
